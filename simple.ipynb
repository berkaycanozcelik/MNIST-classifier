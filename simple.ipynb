{
 "cells": [
  {
   "cell_type": "markdown",
   "id": "950156cc469b44b0",
   "metadata": {},
   "source": [
    "MNIST Classifier."
   ]
  },
  {
   "cell_type": "code",
   "id": "520102188a309e8a",
   "metadata": {
    "ExecuteTime": {
     "end_time": "2024-06-14T09:33:29.717876Z",
     "start_time": "2024-06-14T09:33:29.715062Z"
    }
   },
   "source": [
    "import tensorflow as tf\n",
    "print(\"version: \" + tf.__version__)"
   ],
   "outputs": [
    {
     "name": "stdout",
     "output_type": "stream",
     "text": [
      "version: 2.16.1\n"
     ]
    }
   ],
   "execution_count": 139
  },
  {
   "cell_type": "code",
   "id": "2fec6ef09cd90ed3",
   "metadata": {
    "ExecuteTime": {
     "end_time": "2024-06-14T08:42:16.864505Z",
     "start_time": "2024-06-14T08:42:16.717281Z"
    }
   },
   "source": [
    "mnist = tf.keras.datasets.mnist\n",
    "(x_train, y_train), (x_test, y_test) = mnist.load_data()"
   ],
   "outputs": [],
   "execution_count": 101
  },
  {
   "cell_type": "code",
   "id": "99a30b3b",
   "metadata": {
    "ExecuteTime": {
     "end_time": "2024-06-14T08:42:16.987914Z",
     "start_time": "2024-06-14T08:42:16.922333Z"
    }
   },
   "source": "x_train, x_test = x_train / 255.0, x_test / 255.0",
   "outputs": [],
   "execution_count": 102
  },
  {
   "metadata": {
    "ExecuteTime": {
     "end_time": "2024-06-14T08:47:51.464057Z",
     "start_time": "2024-06-14T08:47:51.444125Z"
    }
   },
   "cell_type": "code",
   "source": [
    "model = tf.keras.models.Sequential([\n",
    "    tf.keras.layers.Flatten(input_shape=(28, 28)),\n",
    "    tf.keras.layers.Dense(128, activation='relu'),\n",
    "    tf.keras.layers.Dense(64, activation='relu'),\n",
    "    tf.keras.layers.Dropout(0.2),\n",
    "    tf.keras.layers.Dense(10)\n",
    "])"
   ],
   "id": "986eeab1f18b764b",
   "outputs": [
    {
     "name": "stderr",
     "output_type": "stream",
     "text": [
      "/opt/homebrew/anaconda3/lib/python3.11/site-packages/keras/src/layers/reshaping/flatten.py:37: UserWarning: Do not pass an `input_shape`/`input_dim` argument to a layer. When using Sequential models, prefer using an `Input(shape)` object as the first layer in the model instead.\n",
      "  super().__init__(**kwargs)\n"
     ]
    }
   ],
   "execution_count": 125
  },
  {
   "metadata": {
    "ExecuteTime": {
     "end_time": "2024-06-14T08:47:51.600446Z",
     "start_time": "2024-06-14T08:47:51.588268Z"
    }
   },
   "cell_type": "code",
   "source": [
    "predictions = model(x_train[:1]).numpy()\n",
    "predictions"
   ],
   "id": "b4eb30570a8a981b",
   "outputs": [
    {
     "data": {
      "text/plain": [
       "array([[-0.19962753, -0.6571237 , -0.39054263,  0.24257585,  0.4822284 ,\n",
       "        -0.4133595 ,  0.15651873,  0.10755495, -0.08692203,  0.5656634 ]],\n",
       "      dtype=float32)"
      ]
     },
     "execution_count": 126,
     "metadata": {},
     "output_type": "execute_result"
    }
   ],
   "execution_count": 126
  },
  {
   "metadata": {
    "ExecuteTime": {
     "end_time": "2024-06-14T08:47:51.766287Z",
     "start_time": "2024-06-14T08:47:51.763367Z"
    }
   },
   "cell_type": "code",
   "source": "tf.nn.softmax(predictions).numpy()",
   "id": "9a454a7825dfc1e",
   "outputs": [
    {
     "data": {
      "text/plain": [
       "array([[0.07778084, 0.04922486, 0.06426274, 0.12103725, 0.15381506,\n",
       "        0.06281307, 0.11105675, 0.10574997, 0.08706026, 0.16719921]],\n",
       "      dtype=float32)"
      ]
     },
     "execution_count": 127,
     "metadata": {},
     "output_type": "execute_result"
    }
   ],
   "execution_count": 127
  },
  {
   "metadata": {
    "ExecuteTime": {
     "end_time": "2024-06-14T08:47:51.945193Z",
     "start_time": "2024-06-14T08:47:51.940472Z"
    }
   },
   "cell_type": "code",
   "source": "loss_fn = tf.keras.losses.SparseCategoricalCrossentropy(from_logits=True)",
   "id": "cc496b8da6b77584",
   "outputs": [],
   "execution_count": 128
  },
  {
   "metadata": {
    "ExecuteTime": {
     "end_time": "2024-06-14T08:47:52.126008Z",
     "start_time": "2024-06-14T08:47:52.116583Z"
    }
   },
   "cell_type": "code",
   "source": "loss_fn(y_train[:1], predictions).numpy()",
   "id": "8fb8ec8d16353ba",
   "outputs": [
    {
     "data": {
      "text/plain": [
       "2.7675922"
      ]
     },
     "execution_count": 129,
     "metadata": {},
     "output_type": "execute_result"
    }
   ],
   "execution_count": 129
  },
  {
   "metadata": {
    "ExecuteTime": {
     "end_time": "2024-06-14T08:47:52.472421Z",
     "start_time": "2024-06-14T08:47:52.459510Z"
    }
   },
   "cell_type": "code",
   "source": [
    "model.compile(optimizer='adam',\n",
    "              loss=loss_fn,\n",
    "              metrics=['accuracy'])"
   ],
   "id": "6028fadf8eb1305a",
   "outputs": [],
   "execution_count": 130
  },
  {
   "metadata": {
    "ExecuteTime": {
     "end_time": "2024-06-14T08:48:12.814398Z",
     "start_time": "2024-06-14T08:47:52.624479Z"
    }
   },
   "cell_type": "code",
   "source": "history = model.fit(x_train, y_train, epochs=10)",
   "id": "43588b64e324f830",
   "outputs": [
    {
     "name": "stdout",
     "output_type": "stream",
     "text": [
      "Epoch 1/10\n",
      "\u001B[1m1875/1875\u001B[0m \u001B[32m━━━━━━━━━━━━━━━━━━━━\u001B[0m\u001B[37m\u001B[0m \u001B[1m2s\u001B[0m 1ms/step - accuracy: 0.8516 - loss: 0.4860\n",
      "Epoch 2/10\n",
      "\u001B[1m1875/1875\u001B[0m \u001B[32m━━━━━━━━━━━━━━━━━━━━\u001B[0m\u001B[37m\u001B[0m \u001B[1m2s\u001B[0m 1ms/step - accuracy: 0.9615 - loss: 0.1271\n",
      "Epoch 3/10\n",
      "\u001B[1m1875/1875\u001B[0m \u001B[32m━━━━━━━━━━━━━━━━━━━━\u001B[0m\u001B[37m\u001B[0m \u001B[1m2s\u001B[0m 1ms/step - accuracy: 0.9733 - loss: 0.0871\n",
      "Epoch 4/10\n",
      "\u001B[1m1875/1875\u001B[0m \u001B[32m━━━━━━━━━━━━━━━━━━━━\u001B[0m\u001B[37m\u001B[0m \u001B[1m2s\u001B[0m 1ms/step - accuracy: 0.9801 - loss: 0.0659\n",
      "Epoch 5/10\n",
      "\u001B[1m1875/1875\u001B[0m \u001B[32m━━━━━━━━━━━━━━━━━━━━\u001B[0m\u001B[37m\u001B[0m \u001B[1m2s\u001B[0m 1ms/step - accuracy: 0.9844 - loss: 0.0512\n",
      "Epoch 6/10\n",
      "\u001B[1m1875/1875\u001B[0m \u001B[32m━━━━━━━━━━━━━━━━━━━━\u001B[0m\u001B[37m\u001B[0m \u001B[1m2s\u001B[0m 1ms/step - accuracy: 0.9860 - loss: 0.0429\n",
      "Epoch 7/10\n",
      "\u001B[1m1875/1875\u001B[0m \u001B[32m━━━━━━━━━━━━━━━━━━━━\u001B[0m\u001B[37m\u001B[0m \u001B[1m2s\u001B[0m 1ms/step - accuracy: 0.9873 - loss: 0.0381\n",
      "Epoch 8/10\n",
      "\u001B[1m1875/1875\u001B[0m \u001B[32m━━━━━━━━━━━━━━━━━━━━\u001B[0m\u001B[37m\u001B[0m \u001B[1m2s\u001B[0m 1ms/step - accuracy: 0.9891 - loss: 0.0315\n",
      "Epoch 9/10\n",
      "\u001B[1m1875/1875\u001B[0m \u001B[32m━━━━━━━━━━━━━━━━━━━━\u001B[0m\u001B[37m\u001B[0m \u001B[1m2s\u001B[0m 1ms/step - accuracy: 0.9906 - loss: 0.0278\n",
      "Epoch 10/10\n",
      "\u001B[1m1875/1875\u001B[0m \u001B[32m━━━━━━━━━━━━━━━━━━━━\u001B[0m\u001B[37m\u001B[0m \u001B[1m2s\u001B[0m 1ms/step - accuracy: 0.9905 - loss: 0.0258\n"
     ]
    }
   ],
   "execution_count": 131
  },
  {
   "metadata": {
    "ExecuteTime": {
     "end_time": "2024-06-14T08:48:12.989210Z",
     "start_time": "2024-06-14T08:48:12.815670Z"
    }
   },
   "cell_type": "code",
   "source": "model.evaluate(x_test, y_test, verbose=2)",
   "id": "dcdafdc2fb2edc51",
   "outputs": [
    {
     "name": "stdout",
     "output_type": "stream",
     "text": [
      "313/313 - 0s - 468us/step - accuracy: 0.9812 - loss: 0.0768\n"
     ]
    },
    {
     "data": {
      "text/plain": [
       "[0.07679037749767303, 0.9811999797821045]"
      ]
     },
     "execution_count": 132,
     "metadata": {},
     "output_type": "execute_result"
    }
   ],
   "execution_count": 132
  },
  {
   "metadata": {
    "ExecuteTime": {
     "end_time": "2024-06-14T08:48:12.992113Z",
     "start_time": "2024-06-14T08:48:12.989934Z"
    }
   },
   "cell_type": "code",
   "source": [
    "probability_model = tf.keras.Sequential([\n",
    "    model,\n",
    "    tf.keras.layers.Softmax()\n",
    "])"
   ],
   "id": "291b38b19a3801ce",
   "outputs": [],
   "execution_count": 133
  },
  {
   "metadata": {
    "ExecuteTime": {
     "end_time": "2024-06-14T08:48:22.111201Z",
     "start_time": "2024-06-14T08:48:22.105609Z"
    }
   },
   "cell_type": "code",
   "source": "probability_model(x_test[:1])",
   "id": "fb5352356533a4d6",
   "outputs": [
    {
     "data": {
      "text/plain": [
       "<tf.Tensor: shape=(1, 10), dtype=float32, numpy=\n",
       "array([[1.2156746e-11, 2.9993633e-11, 7.0159087e-09, 8.0752434e-06,\n",
       "        1.2397733e-13, 1.3358649e-08, 2.6071520e-17, 9.9998844e-01,\n",
       "        1.0844545e-12, 3.4250170e-06]], dtype=float32)>"
      ]
     },
     "execution_count": 136,
     "metadata": {},
     "output_type": "execute_result"
    }
   ],
   "execution_count": 136
  },
  {
   "metadata": {
    "ExecuteTime": {
     "end_time": "2024-06-14T08:48:23.188146Z",
     "start_time": "2024-06-14T08:48:23.076309Z"
    }
   },
   "cell_type": "code",
   "source": [
    "import matplotlib.pyplot as plt\n",
    "\n",
    "plt.figure(figsize=(8, 4))\n",
    "plt.subplot(1, 2, 1)\n",
    "plt.plot(history.history['loss'])\n",
    "plt.title('Model Loss vs Epoch')\n",
    "plt.ylabel('Loss')\n",
    "plt.xlabel('Epoch')\n",
    "\n",
    "# Plot the training accuracy\n",
    "plt.subplot(1, 2, 2)\n",
    "plt.plot(history.history['accuracy'])\n",
    "plt.title('Model Accuracy vs Epoch')\n",
    "plt.ylabel('Accuracy')\n",
    "plt.xlabel('Epoch')\n",
    "\n",
    "plt.tight_layout()\n",
    "plt.show()"
   ],
   "id": "1e99fb8fc7db20ad",
   "outputs": [
    {
     "data": {
      "text/plain": [
       "<Figure size 800x400 with 2 Axes>"
      ],
      "image/png": "[encoded data removed]"
     },
     "metadata": {},
     "output_type": "display_data"
    }
   ],
   "execution_count": 137
  },
  {
   "metadata": {},
   "cell_type": "code",
   "outputs": [],
   "execution_count": null,
   "source": "",
   "id": "60ddc87478629610"
  }
 ],
 "metadata": {
  "kernelspec": {
   "display_name": "Python 3 (ipykernel)",
   "language": "python",
   "name": "python3"
  },
  "language_info": {
   "codemirror_mode": {
    "name": "ipython",
    "version": 3
   },
   "file_extension": ".py",
   "mimetype": "text/x-python",
   "name": "python",
   "nbconvert_exporter": "python",
   "pygments_lexer": "ipython3",
   "version": "3.11.5"
  }
 },
 "nbformat": 4,
 "nbformat_minor": 5
}
